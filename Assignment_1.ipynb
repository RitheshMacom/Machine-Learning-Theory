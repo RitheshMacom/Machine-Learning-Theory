{
 "cells": [
  {
   "cell_type": "markdown",
   "id": "2040fdf0",
   "metadata": {},
   "source": [
    "### 1. What does one mean by the term \"machine learning\"?"
   ]
  },
  {
   "cell_type": "markdown",
   "id": "6c8d639a",
   "metadata": {},
   "source": [
    "    The term ‘Machine Learning’ means that machine is learned from us. So the machine can now perform the specific predetermined job that we teach the machine by feeding data. By a formal definition ‘Machine Learning’ means a machine can do the job without being an explecity programmed."
   ]
  },
  {
   "cell_type": "markdown",
   "id": "79e091eb",
   "metadata": {},
   "source": [
    "### 2.Can you think of 4 distinct types of issues where it shines?"
   ]
  },
  {
   "cell_type": "markdown",
   "id": "d532f7aa",
   "metadata": {},
   "source": [
    "    1) Spam detection in email, 2) Cancer diagnosis, 3) Fraudulent credit card transactions, 4) Automatically driving vehicles"
   ]
  },
  {
   "cell_type": "markdown",
   "id": "ff3d7c90",
   "metadata": {},
   "source": [
    "### 3.What is a labeled training set, and how does it work?\\"
   ]
  },
  {
   "cell_type": "markdown",
   "id": "fde850fb",
   "metadata": {},
   "source": [
    "    Labeled training set means the data have the label into it, and thus it has the label so we will put this in the supervised ml category. The machine will learn from these labeled with their respected feature. So it will determine how the label will determine from what features."
   ]
  },
  {
   "cell_type": "markdown",
   "id": "f680b487",
   "metadata": {},
   "source": [
    "### 4.What are the two most important tasks that are supervised?"
   ]
  },
  {
   "cell_type": "markdown",
   "id": "bf4b5aa0",
   "metadata": {},
   "source": [
    "    In supervised learning, target variables are given. Whether it is a numerical or categroical. So the two most important tasks that it do are:\n",
    "\n",
    "    1) Regression- Target variables are numerical in nature.\n",
    "\n",
    "    2) Classification- Target variables are categoriical in nature"
   ]
  },
  {
   "cell_type": "markdown",
   "id": "a3b9c715",
   "metadata": {},
   "source": [
    "### 5.Can you think of four examples of unsupervised tasks?"
   ]
  },
  {
   "cell_type": "markdown",
   "id": "b75c2e80",
   "metadata": {},
   "source": [
    "    In supervised learnning, there is no target output column.\n",
    "\n",
    "    The four basic unsupervised tasked are :\n",
    "    \n",
    "    1) clustering: Creating a similar groups for indiviual observation.\n",
    "\n",
    "    2) visualization: Visualization the data set into different different lcusters which we have created.\n",
    "\n",
    "    3) dimensionality reduction: If there is a huge number of feature then there is a chances of overfiting due to\n",
    "       dimentionality curse. So it tries to reduce the number of features into few components.\n",
    "\n",
    "    4) association:"
   ]
  },
  {
   "cell_type": "markdown",
   "id": "80105fbf",
   "metadata": {},
   "source": [
    "### 6.State the machine learning model that would be best to make a robot walk through various unfamiliar terrains?"
   ]
  },
  {
   "cell_type": "markdown",
   "id": "fd2be715",
   "metadata": {},
   "source": [
    "    Reinforcement Learning would be the best for this purpose. This model(Robot) learns from the training by getting a reward or penalty. If he got a reward then he will remember the feature and think that is a useful feature and if he gets a penalty then he will think of that as a bad feature."
   ]
  },
  {
   "cell_type": "markdown",
   "id": "7b0c40d6",
   "metadata": {},
   "source": [
    "### 7.Which algorithm will you use to divide your customers into different groups?"
   ]
  },
  {
   "cell_type": "markdown",
   "id": "b3c7007e",
   "metadata": {},
   "source": [
    "    For this case Clustering algorithm will be the best choice. It will divide customers into many different groups. Like k-Means Clustering"
   ]
  },
  {
   "cell_type": "markdown",
   "id": "6ffeec95",
   "metadata": {},
   "source": [
    "### 8.Will you consider the problem of spam detection to be a supervised or unsupervised learning problem?"
   ]
  },
  {
   "cell_type": "markdown",
   "id": "6eb2ff54",
   "metadata": {},
   "source": [
    "    Spam detection will be supervised machine learning"
   ]
  },
  {
   "cell_type": "markdown",
   "id": "46450197",
   "metadata": {},
   "source": [
    "### 9.What is the concept of an online learning system?"
   ]
  },
  {
   "cell_type": "markdown",
   "id": "9cf2b7f1",
   "metadata": {},
   "source": [
    "    It is refer to the learning that we can get from the internet. It lets you adapt to your own timing and convenience. It also allows you to learn from anywhere and at any time"
   ]
  },
  {
   "cell_type": "markdown",
   "id": "b95b6192",
   "metadata": {},
   "source": [
    "### 10.What is out-of-core learning, and how does it differ from core learning?"
   ]
  },
  {
   "cell_type": "markdown",
   "id": "b4d16bee",
   "metadata": {},
   "source": [
    "    ’Out of core’ learning means dividing the data into smaller parts and feed the system one by one not all at a time. This is usually done when the system can't hold the entire data at once or in the machine memory, this can occur when the data set is huge or big enough to not fit on the system memory at once. And the ‘core learning’ or ‘in-core learning is just the opposite of the out-core learning when the system is strong enough to hold the entire data at once and perform the training."
   ]
  },
  {
   "cell_type": "markdown",
   "id": "b3be0855",
   "metadata": {},
   "source": [
    "### 11.What kind of learning algorithm makes predictions using a similarity measure?"
   ]
  },
  {
   "cell_type": "markdown",
   "id": "7c879f13",
   "metadata": {},
   "source": [
    "    Instance-based learning algorithms use a measure of similarity to generalize to new cases. In an instance-based learning system, the algorithm learns the examples by heart, then uses the similarity measure to generalize."
   ]
  },
  {
   "cell_type": "markdown",
   "id": "0a5457fe",
   "metadata": {},
   "source": [
    "### 12.What's the difference between a model parameter and a hyperparameter in a learning algorithm?"
   ]
  },
  {
   "cell_type": "markdown",
   "id": "371d4626",
   "metadata": {},
   "source": [
    "    The model parameter is the parameter that determines how the model will perform in the time of predictions and it is completely different from hyperparameters. The Hyperparameter of a learning algorithm sets the learning algorithm and this parameter will change the performance of the learning algorithm at the time of learning or training."
   ]
  },
  {
   "cell_type": "markdown",
   "id": "4376cf3e",
   "metadata": {},
   "source": [
    "### 13.What are the criteria that model-based learning algorithms look for? What is the most popular method they use to achieve success? What method do they use to make predictions?"
   ]
  },
  {
   "cell_type": "markdown",
   "id": "95dab12b",
   "metadata": {},
   "source": [
    "    The goal for a model-based algorithm is to be able to generalize to new examples. To do this, model based algorithms search for optimal values for the model's parameters, often called theta. This searching, or \"learning\", is what machine learning is all about. \n",
    "    \n",
    "    Model-based system learn by minimizing a cost function that measures how bad the system is at making predicitons on new data, plus a penalty for model complexity if the model is regularized. To make a prediction, a new instance's features are fed into a hypothesis function which uses the minimized theta found by repeatedly running the cost function."
   ]
  },
  {
   "cell_type": "markdown",
   "id": "4e66c58a",
   "metadata": {},
   "source": [
    "### 14.Can you name four of the most important Machine Learning challenges?"
   ]
  },
  {
   "cell_type": "markdown",
   "id": "e14a0272",
   "metadata": {},
   "source": [
    "     In the time of creating a machine learning model there are serval challenge that we have to face when finding the right parameter and tuning the model in order to get the best performance from our model. The few most important are.\n",
    "\n",
    "    The model overfitting and underfitting.\n",
    "    Datasets imbalancing or label imbalancing\n",
    "    Data leakage problem .\n",
    " "
   ]
  },
  {
   "cell_type": "markdown",
   "id": "8329585e",
   "metadata": {},
   "source": [
    "### 15.What happens if the model performs well on the training data but fails to generalize the results to new situations? Can you think of three different options?"
   ]
  },
  {
   "cell_type": "markdown",
   "id": "3f5270e5",
   "metadata": {},
   "source": [
    "    This is a case of is overfitting the training data.\n",
    "\n",
    "    To overcome this we can do:\n",
    "\n",
    "    1) Reduce the complexity of the model by removing features or constraining the parameters.\n",
    "\n",
    "    2) Can gather more data.\n",
    "\n",
    "    3) Can reduce noisiness in the data by fixing errors and removing outliers."
   ]
  },
  {
   "cell_type": "markdown",
   "id": "5a7958db",
   "metadata": {},
   "source": [
    "### 16.What exactly is a test set, and why would you need one?"
   ]
  },
  {
   "cell_type": "markdown",
   "id": "36174146",
   "metadata": {},
   "source": [
    "    The test set is completely unseen data. And we can use this unseen data to test our model performance on the new instance to get confirmed how our model works."
   ]
  },
  {
   "cell_type": "markdown",
   "id": "1b907fb4",
   "metadata": {},
   "source": [
    "### 17.What is a validation set's purpose?"
   ]
  },
  {
   "cell_type": "markdown",
   "id": "bde26386",
   "metadata": {},
   "source": [
    "    In cross validation we generally used validation set. Its purpose is to check the model accuracy in different different subset of data and decie the best possible predcition fo rthe model"
   ]
  },
  {
   "cell_type": "markdown",
   "id": "140d73e6",
   "metadata": {},
   "source": [
    "### 18.What precisely is the train-dev kit, when will you need it, how do you put it to use?"
   ]
  },
  {
   "cell_type": "markdown",
   "id": "2ff71527",
   "metadata": {},
   "source": [
    "    The goal of dev-set is to rank the models in term of their accuracy and helps us decide which model to proceed further with. Using Dev set we rank all our models in terms of their accuracy and pick the best performing model."
   ]
  },
  {
   "cell_type": "markdown",
   "id": "0c46db67",
   "metadata": {},
   "source": [
    "### 19.What could go wrong if you use the test set to tune hyperparameters?"
   ]
  },
  {
   "cell_type": "markdown",
   "id": "6a8875d5",
   "metadata": {},
   "source": [
    "    If I use the test set to tune the hyperparameter then we make the learning algorithm perfect for that specific test data only. Our model may not work well on other test data."
   ]
  },
  {
   "cell_type": "code",
   "execution_count": null,
   "id": "8de2a92f",
   "metadata": {},
   "outputs": [],
   "source": []
  }
 ],
 "metadata": {
  "kernelspec": {
   "display_name": "Python 3",
   "language": "python",
   "name": "python3"
  },
  "language_info": {
   "codemirror_mode": {
    "name": "ipython",
    "version": 3
   },
   "file_extension": ".py",
   "mimetype": "text/x-python",
   "name": "python",
   "nbconvert_exporter": "python",
   "pygments_lexer": "ipython3",
   "version": "3.8.8"
  }
 },
 "nbformat": 4,
 "nbformat_minor": 5
}
