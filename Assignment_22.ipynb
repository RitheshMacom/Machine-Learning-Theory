{
 "cells": [
  {
   "cell_type": "markdown",
   "id": "f81b6208",
   "metadata": {},
   "source": [
    "### 1. Is there any way to combine five different models that have all been trained on the same training data and have all achieved 95 percent precision? If so, how can you go about doing it? If not, what is the reason?"
   ]
  },
  {
   "cell_type": "markdown",
   "id": "1db9dcd3",
   "metadata": {},
   "source": [
    "Try combining them into a voting ensemble, which will often give you even better results. It works better if the models are very different."
   ]
  },
  {
   "cell_type": "markdown",
   "id": "3f75ed3b",
   "metadata": {},
   "source": [
    "### 2. What's the difference between hard voting classifiers and soft voting classifiers?"
   ]
  },
  {
   "cell_type": "markdown",
   "id": "85f010f4",
   "metadata": {},
   "source": [
    "In hard voting (also known as majority voting), every individual classifier votes for a class, and the majority wins. In statistical terms, the predicted target label of the ensemble is the mode of the distribution of individually predicted labels. In soft voting, every individual classifier provides a probability value that a specific data point belongs to a particular target class. The predictions are weighted by the classifier's importance and summed up. Then the target label with the greatest sum of weighted probabilities wins the vote."
   ]
  },
  {
   "cell_type": "markdown",
   "id": "c9fabfbd",
   "metadata": {},
   "source": [
    "### 3. Is it possible to distribute a bagging ensemble's training through several servers to speed up the process? Pasting ensembles, boosting ensembles, Random Forests, and stacking ensembles are all options."
   ]
  },
  {
   "cell_type": "markdown",
   "id": "ee95ca15",
   "metadata": {},
   "source": [
    "If you want to speed up your bagging then instead of distribution you should reduce the size of estimators."
   ]
  },
  {
   "cell_type": "markdown",
   "id": "6ceab479",
   "metadata": {},
   "source": [
    "### 4. What is the advantage of evaluating out of the bag?"
   ]
  },
  {
   "cell_type": "markdown",
   "id": "fd53b0e3",
   "metadata": {},
   "source": [
    "The advantage of evaluating out of bag are that the model is never trained on the that data so it is used for evaluating the accuracy of the model. so,we do not need of cross validation and can use out of bag instance for that purpose."
   ]
  },
  {
   "cell_type": "markdown",
   "id": "0f0e8eb9",
   "metadata": {},
   "source": [
    "### 5. What distinguishes Extra-Trees from ordinary Random Forests? What good would this extra randomness do? Is it true that Extra-Tree Random Forests are slower or faster than normal Random Forests?"
   ]
  },
  {
   "cell_type": "markdown",
   "id": "d3b27278",
   "metadata": {},
   "source": [
    "Random forest uses bootstrap replicas, that is to say, it subsamples the input data with replacement, whereas Extra Trees use the whole original sample. This may increase variance because bootstrapping makes it more diversified.\n",
    "\n",
    "In terms of computational cost, and therefore execution time, the Extra Trees algorithm is faster. This algorithm saves time because the whole procedure is the same, but it randomly chooses the split point and does not calculate the optimal one.\n",
    "\n",
    "Moreover, as expected, Extra Trees is much faster. This is because instead of looking for the optimal split at each node it does it randomly."
   ]
  },
  {
   "cell_type": "markdown",
   "id": "d51482f9",
   "metadata": {},
   "source": [
    "### 6. Which hyperparameters and how do you tweak if your AdaBoost ensemble underfits the training data?"
   ]
  },
  {
   "cell_type": "markdown",
   "id": "b27a34ec",
   "metadata": {},
   "source": [
    "Try increasing the number of estimators or reducing the regularization hyperparameters of the base estimator, also try slightly increasing the learning rate."
   ]
  },
  {
   "cell_type": "markdown",
   "id": "cb8e5ffe",
   "metadata": {},
   "source": [
    "### 7. Should you raise or decrease the learning rate if your Gradient Boosting ensemble overfits the training set?"
   ]
  },
  {
   "cell_type": "markdown",
   "id": "f157524f",
   "metadata": {},
   "source": [
    "Decreasing the learning rate, early stopping to find the right number of predictors."
   ]
  },
  {
   "cell_type": "code",
   "execution_count": null,
   "id": "e4e7a7cc",
   "metadata": {},
   "outputs": [],
   "source": []
  }
 ],
 "metadata": {
  "kernelspec": {
   "display_name": "Python 3",
   "language": "python",
   "name": "python3"
  },
  "language_info": {
   "codemirror_mode": {
    "name": "ipython",
    "version": 3
   },
   "file_extension": ".py",
   "mimetype": "text/x-python",
   "name": "python",
   "nbconvert_exporter": "python",
   "pygments_lexer": "ipython3",
   "version": "3.8.8"
  }
 },
 "nbformat": 4,
 "nbformat_minor": 5
}
