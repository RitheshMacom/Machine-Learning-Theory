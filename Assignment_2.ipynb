{
 "cells": [
  {
   "cell_type": "markdown",
   "id": "94f0ef6c",
   "metadata": {},
   "source": [
    "### 1. What is the concept of human learning? Please give two examples ?"
   ]
  },
  {
   "cell_type": "markdown",
   "id": "3a9e3ec8",
   "metadata": {},
   "source": [
    "    Human learning starts at birth and continues until death as a consequence of ongoing interactions between people and their environment. Human acquire new understanding, knowledge, behaviors, skills, values, attitudes, and preferences through which he become a good learning and work accordingly.\n",
    "\n",
    "    Examples:\n",
    "\n",
    "    1) Learning what are dogs\n",
    "\n",
    "    2) What are cats"
   ]
  },
  {
   "cell_type": "markdown",
   "id": "1d824fee",
   "metadata": {},
   "source": [
    "### 2. What different forms of human learning are there? Are there any machine learning equivalents?"
   ]
  },
  {
   "cell_type": "markdown",
   "id": "bab7fe2c",
   "metadata": {},
   "source": [
    "    1) Hebbian learning(Human Learning) <-----> Artificial Neural Network( Machine learning)\n",
    "\n",
    "    2) operant conditioning(Human learning) <-----> Reinforcement Learning(Machine Learning)\n",
    "\n",
    "    3) Concept learning (Human learning) <----> Supervised Learning (Machine learning)\n",
    "\n",
    "    etc"
   ]
  },
  {
   "cell_type": "markdown",
   "id": "e7c391aa",
   "metadata": {},
   "source": [
    "### 3. What is machine learning, and how does it work? What are the key responsibilities of machine learning?"
   ]
  },
  {
   "cell_type": "markdown",
   "id": "00f061fe",
   "metadata": {},
   "source": [
    "    Machine learning is a process where a machine can learn from past resources and able perform a new task without getting help from humans in the time of performing.\n",
    "\n",
    "    Machine learning work on the basis of previous resources that we feed to the model for performing a specific task. At first, we feed some data to the model and train the model on that dataset so it can perform on the new dataset. \n",
    "    \n",
    "    The key responsibilities of machine learning are to make sure that the model Is working as expected on the real-life example or on the unseen data. It should not Overfit as well as not underfit then it will perform very poorly on the unseen data or objects."
   ]
  },
  {
   "cell_type": "markdown",
   "id": "865702f2",
   "metadata": {},
   "source": [
    "### 4. Define the terms \"penalty\" and \"reward\" in the context of reinforcement learning./\n"
   ]
  },
  {
   "cell_type": "markdown",
   "id": "e6a02ca8",
   "metadata": {},
   "source": [
    "    The penalty can refer to as negative feedback to the model in a specif task that defines how the model is performing model is taking a penalty means the model is doing a wrong prediction or it is learning incorrectly.\n",
    "\n",
    "    And the term reward is referring to positive feedback to the model that can be telling the model it is doing the correct things or it is learning correctly."
   ]
  },
  {
   "cell_type": "markdown",
   "id": "48684fce",
   "metadata": {},
   "source": [
    "### 5. Explain the term \"learning as a search\""
   ]
  },
  {
   "cell_type": "markdown",
   "id": "6c4b7349",
   "metadata": {},
   "source": [
    "    Learning as a search is meaning that the model is learning means It is finding or searching the underlying pattern of the given resource for a specific output. \n",
    "    \n",
    "    That is the main goal of machine learning the training of the model on the training data can be referred to in a different way that the model is trying to find the underlying structure for the dataset so it can learn the pattern and perform when the new data will come. So in this way, we can refer to the learning as a search. The searching of the pattern"
   ]
  },
  {
   "cell_type": "markdown",
   "id": "126d2f71",
   "metadata": {},
   "source": [
    "### 6. What are the various goals of machine learning? What is the relationship between these and human learning?"
   ]
  },
  {
   "cell_type": "markdown",
   "id": "79ade4a3",
   "metadata": {},
   "source": [
    "     The various goal of machine learning can be to find the right pattern of the given training data. Reducing the cost function value, As much low will be it the model will perform well on the time of testing. Avoiding overfitting in the time of training time.\n",
    "\n",
    "    Learn from data and gives us the correct prediction on unseen data."
   ]
  },
  {
   "cell_type": "markdown",
   "id": "386b3000",
   "metadata": {},
   "source": [
    "### 7. Illustrate the various elements of machine learning using a real-life illustration."
   ]
  },
  {
   "cell_type": "markdown",
   "id": "2cde7943",
   "metadata": {},
   "source": [
    "    Machine learning uses various elements to perform them in real life, These elements includes decision trees, sets of rules, instances, graphical models, neural networks, support vector machines, model ensembles and others.\n",
    "\n",
    "    These elements are very helpful in real life examples like Image Recognition, Speech Recognition, Medical diagnosis, etc"
   ]
  },
  {
   "cell_type": "markdown",
   "id": "bee7b038",
   "metadata": {},
   "source": [
    "### 8. Provide an example of the abstraction method"
   ]
  },
  {
   "cell_type": "code",
   "execution_count": 2,
   "id": "b22d2aa8",
   "metadata": {},
   "outputs": [
    {
     "name": "stdout",
     "output_type": "stream",
     "text": [
      "I can walk and run\n",
      "I can crawl\n",
      "I can bark\n",
      "I can roar\n"
     ]
    }
   ],
   "source": [
    "from abc import ABC, abstractmethod\n",
    "class Animal(ABC):\n",
    "\n",
    "    def move(self):\n",
    "        pass\n",
    "\n",
    "class Human(Animal):\n",
    "\n",
    "    def move(self):\n",
    "        print(\"I can walk and run\")\n",
    "\n",
    "class Snake(Animal):\n",
    "\n",
    "    def move(self):\n",
    "        print(\"I can crawl\")\n",
    "\n",
    "class Dog(Animal):\n",
    "\n",
    "    def move(self):\n",
    "        print(\"I can bark\")\n",
    "\n",
    "class Lion(Animal):\n",
    "\n",
    "    def move(self):\n",
    "        print(\"I can roar\")\n",
    "\n",
    "R = Human()\n",
    "R.move()\n",
    "\n",
    "K = Snake()\n",
    "K.move()\n",
    "\n",
    "R = Dog()\n",
    "R.move()\n",
    "\n",
    "K = Lion()\n",
    "K.move()"
   ]
  },
  {
   "cell_type": "markdown",
   "id": "ec9fa8f3",
   "metadata": {},
   "source": [
    "### 9. What is the concept of generalization? What function does it play in the machine learning process?"
   ]
  },
  {
   "cell_type": "markdown",
   "id": "95ff7c38",
   "metadata": {},
   "source": [
    "    Generalization is a definition to demonstrate how well is a trained model to classify or forecast unseen data. Training a generalized machine learning model means, in general, it works for all subset of unseen data.\n",
    "\n",
    "    Loss function or cost function play an important role in order to get a generalised model"
   ]
  },
  {
   "cell_type": "markdown",
   "id": "6922996d",
   "metadata": {},
   "source": [
    "### 10. What is classification, exactly? What are the main distinctions between classification and regression?"
   ]
  },
  {
   "cell_type": "markdown",
   "id": "c58b8046",
   "metadata": {},
   "source": [
    "    It is probability based classification in which a category is decided based on the probability of occurrence of that particular observation w.r.t. threshold provided by the domain expertiese.\n",
    "\n",
    "    The mian difference is, regression is a continuous problem and classification is a categorical problem"
   ]
  },
  {
   "cell_type": "markdown",
   "id": "ffac6e5a",
   "metadata": {},
   "source": [
    "### 11. What is regression, and how does it work? Give an example of a real-world problem that was solved using regression."
   ]
  },
  {
   "cell_type": "markdown",
   "id": "ba275639",
   "metadata": {},
   "source": [
    "    The Regression problem is where we are calculating a continuous real number as our output. For that, we use various mathematical approaches to find the correct value. For the regression problem first, we find some constant value and then we take our input features and based on those numbers we calculate our predictions.\n",
    "\n",
    "    By giving a real-world example we use the machine learning regression technique for predicting house price or second-hand car price. Wher it is notable that those outputs are a real continuous number, nither a class nor an object"
   ]
  },
  {
   "cell_type": "markdown",
   "id": "90a14d99",
   "metadata": {},
   "source": [
    "### 12. Describe the clustering mechanism in detail."
   ]
  },
  {
   "cell_type": "markdown",
   "id": "01f9b738",
   "metadata": {},
   "source": [
    "    Clustering is the task of dividing the population or data points into a number of groups such that data points in the same groups are more similar to other data points in the same group than those in other groups. Grouping unlabeled examples is called clustering"
   ]
  },
  {
   "cell_type": "code",
   "execution_count": null,
   "id": "3c65db01",
   "metadata": {},
   "outputs": [],
   "source": []
  }
 ],
 "metadata": {
  "kernelspec": {
   "display_name": "Python 3",
   "language": "python",
   "name": "python3"
  },
  "language_info": {
   "codemirror_mode": {
    "name": "ipython",
    "version": 3
   },
   "file_extension": ".py",
   "mimetype": "text/x-python",
   "name": "python",
   "nbconvert_exporter": "python",
   "pygments_lexer": "ipython3",
   "version": "3.8.8"
  }
 },
 "nbformat": 4,
 "nbformat_minor": 5
}
