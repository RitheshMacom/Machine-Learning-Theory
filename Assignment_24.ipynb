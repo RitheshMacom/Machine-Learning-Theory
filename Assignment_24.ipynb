{
 "cells": [
  {
   "cell_type": "markdown",
   "id": "5db2ad2b",
   "metadata": {},
   "source": [
    "### 1. What is your definition of clustering? What are a few clustering algorithms you might think of?"
   ]
  },
  {
   "cell_type": "markdown",
   "id": "f429df15",
   "metadata": {},
   "source": [
    "Clustering is a unsupervised approach. it is a method of identifing similar object and kipping them together.clustering is find a structute or pattern in a collection of unlabled data.The goal of clustering is to determine the intrensic groups of unlabled data.Few algorithms of clusterings are:\n",
    "\n",
    "1. k-mean clustering\n",
    "2. Herirachical clustering\n",
    "3. DBSCAN"
   ]
  },
  {
   "cell_type": "markdown",
   "id": "75a0ce7e",
   "metadata": {},
   "source": [
    "### 2. What are some of the most popular clustering algorithm applications?"
   ]
  },
  {
   "cell_type": "markdown",
   "id": "066ba490",
   "metadata": {},
   "source": [
    "Application of clustering algorithm are:-\n",
    "\n",
    "1. for customer segment\n",
    "2. for data analysis\n",
    "3. As a dimensionality reduction technique\n",
    "4. for anamoly detection\n",
    "5. to segment an image"
   ]
  },
  {
   "cell_type": "markdown",
   "id": "e3553783",
   "metadata": {},
   "source": [
    "### 3. When using K-Means, describe two strategies for selecting the appropriate number of clusters."
   ]
  },
  {
   "cell_type": "markdown",
   "id": "6de4eccb",
   "metadata": {},
   "source": [
    "The k-mean is a clusterring approach in which a data is grouped into k-distinct non-overlapping cluster based on the distance from the k-centre. the value of k is specified first then algorithm assign the point to exactly one cluster.The optimum value of k is obtained by using the elbow method(wcc or inertia)."
   ]
  },
  {
   "cell_type": "markdown",
   "id": "45202b00",
   "metadata": {},
   "source": [
    "### 5. Provide two examples of clustering algorithms that can handle large datasets. And two that look for high-density areas?"
   ]
  },
  {
   "cell_type": "markdown",
   "id": "89bc4470",
   "metadata": {},
   "source": [
    "Two examples of clustering algorithms that can handle large datasets are.\n",
    "\n",
    "1. Identifying fraudulent or criminal activity.\n",
    "2. Classifying network traffic"
   ]
  },
  {
   "cell_type": "markdown",
   "id": "eb086f93",
   "metadata": {},
   "source": [
    "### 7. How do you tell the difference between anomaly and novelty detection?"
   ]
  },
  {
   "cell_type": "markdown",
   "id": "77f64faf",
   "metadata": {},
   "source": [
    "Anamoly detection is similar to the novelty detection but not completely similar. the novelty detection is mainly concerned to identify the unabsorbed pattern in the obsrvation."
   ]
  },
  {
   "cell_type": "markdown",
   "id": "c2c3f054",
   "metadata": {},
   "source": [
    "### 8. What is a Gaussian mixture, and how does it work? What are some of the things you can do about it?"
   ]
  },
  {
   "cell_type": "markdown",
   "id": "2d8b240b",
   "metadata": {},
   "source": [
    "A Gaussian mixture model is a probabilistic model that assumes all the data points are generated from a mixture of a finite number of Gaussian distributions with unknown parameters. Gaussian Mixture models are used for representing Normally Distributed subpopulations within an overall population. The advantage of Mixture models is that they do not require which subpopulation a data point belongs to. It allows the model to learn the subpopulations automatically."
   ]
  },
  {
   "cell_type": "markdown",
   "id": "026019d7",
   "metadata": {},
   "source": [
    "### 9. When using a Gaussian mixture model, can you name two techniques for determining the correct number of clusters?"
   ]
  },
  {
   "cell_type": "markdown",
   "id": "b39e99ea",
   "metadata": {},
   "source": [
    "How can a Gaussian mixture model be used for clustering? Gaussian mixture models (GMMs) are often used for data clustering. You can use GMMs to perform either hard clustering or soft clustering on query data. To perform hard clustering, the GMM assigns query data points to the multivariate normal components that maximize the component posterior probability, given the data."
   ]
  },
  {
   "cell_type": "code",
   "execution_count": null,
   "id": "609f8d9c",
   "metadata": {},
   "outputs": [],
   "source": []
  }
 ],
 "metadata": {
  "kernelspec": {
   "display_name": "Python 3",
   "language": "python",
   "name": "python3"
  },
  "language_info": {
   "codemirror_mode": {
    "name": "ipython",
    "version": 3
   },
   "file_extension": ".py",
   "mimetype": "text/x-python",
   "name": "python",
   "nbconvert_exporter": "python",
   "pygments_lexer": "ipython3",
   "version": "3.8.8"
  }
 },
 "nbformat": 4,
 "nbformat_minor": 5
}
