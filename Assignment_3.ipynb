{
 "cells": [
  {
   "cell_type": "markdown",
   "id": "d7e79ea0",
   "metadata": {},
   "source": [
    "### 1.Explain the term machine learning, and how does it work? Explain two machine learning applications in the business world. What are some of the ethical concerns that machine learning applications could raise?"
   ]
  },
  {
   "cell_type": "markdown",
   "id": "54bbcfdd",
   "metadata": {},
   "source": [
    "    The term machine learning means that machines can learn from past resources or data and can perform new tasks without explicitly programmed. An example of a machine learning application is prediction forecasting stock price, prediction product price will drop or rise basis on the market situations. \n",
    "    \n",
    "    By using machine learning applications we can predict stock price by observing the past stock price, we can use various machine learning algorithms to do the calculation. On the other side, we can use machine learning to predict a product price based on its feature and market demand, we can predict future information."
   ]
  },
  {
   "cell_type": "markdown",
   "id": "f079bb39",
   "metadata": {},
   "source": [
    "### 2. Describe the process of human learning:\n",
    "           i. Under the supervision of experts\n",
    "           ii. With the assistance of experts in an indirect manner\n",
    "            iii. Self-education\n"
   ]
  },
  {
   "cell_type": "markdown",
   "id": "a5bb6974",
   "metadata": {},
   "source": [
    "### ANS\n",
    "    i. Subject matter experts accelerate the learning process by teaching the technology in real-time.\n",
    "    \n",
    "    ii. Assistance from experts helps the learner to learn how to work on difficult tasks. Inherently motivating because it involves the transfer of responsibility, or control, for learning, from the teacher or more capable other to the learner. This transfer of control is motivating for the student as it acknowledges student mastery of the task, and hence the learner's developing efficacy.\n",
    "    \n",
    "    iii. Assess readiness to learn. Students need various skills and attitudes towards learning for successful independent study. Set learning goals. Engage in the learning process. Evaluate learning.\n"
   ]
  },
  {
   "cell_type": "markdown",
   "id": "969f99a0",
   "metadata": {},
   "source": [
    "### 3. Provide a few examples of various types of machine learning."
   ]
  },
  {
   "cell_type": "markdown",
   "id": "57d8ba28",
   "metadata": {},
   "source": [
    "    Machine Learning:\n",
    "       1.\tSupervised learning.\n",
    "            a.\tClassification.\n",
    "                i.\tDiagnostics\n",
    "                ii.\tCustomer Retention\n",
    "                iii.\tImage Classification\n",
    "                iv.\tIdentify Fraud detection\n",
    "            b.\tRegression:\n",
    "                i.\tPopulation growth prediction.\n",
    "                ii.\tEstimating life expectancy.\n",
    "                iii.\tMarket forecasting\n",
    "                iv.\tWeather forecasting\n",
    "                v.\tAdvertising popularity prediction.\n",
    "      2.\tUnsupervised learning.\n",
    "            a.\tDimensionality reduction.\n",
    "                i.\tMeaningful compression\n",
    "                ii.\tBig data Visualisation\n",
    "                iii.\tStructure Discovery\n",
    "                iv.\tFeature Elicitation\n",
    "            b.\tClustering\n",
    "                i.\tRecommender systems\n",
    "                ii.\tTargeted Marketing\n",
    "                iii.\tCustomer segmentation\n",
    "       3.\tReinforcement Learning\n",
    "            a.\tGame AI\n",
    "            b.\tSkill Acquisition\n",
    "            c.\tLearning tasks\n",
    "            d.\tRobot navigation\n",
    "            e.\tReal time decisions\n"
   ]
  },
  {
   "cell_type": "markdown",
   "id": "94d0ab6e",
   "metadata": {},
   "source": [
    "### 4. Examine the various forms of machine learning."
   ]
  },
  {
   "cell_type": "markdown",
   "id": "2d680060",
   "metadata": {},
   "source": [
    "    The 3 forms of machine learning\n",
    "\n",
    "            1) Supervised Machine Learning\n",
    "            2) Unsupervised Machine Learning\n",
    "            3) Reinforcement Machine Learning"
   ]
  },
  {
   "cell_type": "markdown",
   "id": "07167ad0",
   "metadata": {},
   "source": [
    "### 5. Can you explain what a well-posed learning problem is? Explain the main characteristics that must be present to identify a learning problem properly."
   ]
  },
  {
   "cell_type": "markdown",
   "id": "33701e4c",
   "metadata": {},
   "source": [
    "     A (machine learning) problem is well-posed if a solution to it exists, if that solution is unique, and if that solution depends on the data / experience but it is not sensitive to (reasonably small) changes in the data / experience.\n",
    "\n",
    "    Main characteristics are:\n",
    "\n",
    "        1) Learning: In this data are trying to learn the pattern or relation between the independent features and depeendetn features.\n",
    "\n",
    "        2) Performance: In this we check for the new unkown data what performance they give when unknow data set is passed to the machine learning model.\n",
    "\n",
    "        3) Evaluation: In this we evaluate hwo good is our model"
   ]
  },
  {
   "cell_type": "markdown",
   "id": "91eba90e",
   "metadata": {},
   "source": [
    "### 6. Is machine learning capable of solving all problems? Give a detailed explanation of your answer."
   ]
  },
  {
   "cell_type": "markdown",
   "id": "86c5072b",
   "metadata": {},
   "source": [
    "     The machine learning algorithms only work with numbers and nothing else. So by respecting that if we are able to express anything in the universe into numerical form and input-output from then machine learning can solve that problem."
   ]
  },
  {
   "cell_type": "markdown",
   "id": "1afb6fa8",
   "metadata": {},
   "source": [
    "### 7. What are the various methods and technologies for solving machine learning problems? Any two of them should be defined in detail"
   ]
  },
  {
   "cell_type": "markdown",
   "id": "9c0ea22a",
   "metadata": {},
   "source": [
    "    For solving machine learning problems there are many approaches that we can encounter, many statistical approaches and all those techniques may require computational power. We can use traditional machine learning approaches or deep learning.\n",
    "\n",
    "    We can use many software available to solve the problem or we can build our own algorithms to performs those tasks or we can use prebuild software packages or libraries like scikit-learn Tensorflow. And many others are available.\n",
    "\n",
    "    Mainly Scikit-learn is the most popular and most used machine learning library that is used nowadays it comes with lots of problem-solving algorithms and we can use that without having depth knowledge about those algorithms. We just need to write few lines of code for creating a machine learning model. We can build an end-to-end process using these libraries.\n",
    "\n",
    "    Tensorflow is another machine learning library that is very powerful also it is mostly used in the case of Deep Learning. With Tensorflow we can build a very powerful machine learning model."
   ]
  },
  {
   "cell_type": "markdown",
   "id": "6c47e882",
   "metadata": {},
   "source": [
    "<!-- ### 8. Can you explain the various forms of supervised learning? Explain each one with an example application  -->"
   ]
  },
  {
   "cell_type": "markdown",
   "id": "cd0aa87a",
   "metadata": {},
   "source": [
    "### 8. Can you explain the various forms of supervised learning? Explain each one with an example application."
   ]
  },
  {
   "cell_type": "markdown",
   "id": "c7449ae6",
   "metadata": {},
   "source": [
    "    Supervised learning are those which have input and output booths are available in the time of creating a machine learning model. Some common supervised learning forms are Regression problems, Classification problems. Regression problem is where we are predicting some continuous numbers like if we have a problem that we have to predict house price based on some features like house locations, number of rooms, size of the compound, etc. this type of problem is Regression Problems.\n",
    "\n",
    "    Classification is when we try to separate the data on its class or more likely to say that here we are trying to predict class or object based on features instead of any numbers. We try to feature set into different groups based on similarity so it can predict the label."
   ]
  },
  {
   "cell_type": "markdown",
   "id": "7e670e49",
   "metadata": {},
   "source": [
    "### 9. What is the difference between supervised and unsupervised learning? With a sample application in each region, explain the differences."
   ]
  },
  {
   "cell_type": "markdown",
   "id": "8e203771",
   "metadata": {},
   "source": [
    "    The main difference between supervised and unsupervised is on presenting the output or the answer from the feature. This means in Supervised learning there the output or the answer is present so the model can learn from that and can find the pattern from them. We are providing questions and answer both at the training time\n",
    "\n",
    "    And unsupervised Learning we did not provide the output or the answer, the learning algorithms groups them based on their similarity and separate them into a different class."
   ]
  },
  {
   "cell_type": "markdown",
   "id": "24297ef8",
   "metadata": {},
   "source": [
    "### 10. Describe the machine learning process in depth ?\n",
    "#### a. Make brief notes on any two of the following:\n",
    "    I.\tMATLAB is one of the most widely used programming languages.\n",
    "        ii. Deep learning applications in healthcare\n",
    "        iii. Study of the market basket\n",
    "         iv. Linear regression (simple)\n"
   ]
  },
  {
   "cell_type": "markdown",
   "id": "f398a3e4",
   "metadata": {},
   "source": [
    "    The machine learning process is something where if we have numerical input then we can expect the machine to give us the output without an explicitly program. In a machine learning problem, we feed data to the model, and then the model Is learned from that data, and then it predicts output for the new data without helping any developer. \n",
    "    \n",
    "    For feeding, we have to feed numerical data because the machine learning model only can work with numerical data. The data can come from various sources so it can be messy, we can’t feed the data in that way, for that we need to clean the data before passing it to the model. \n",
    "    \n",
    "    Form these data the model can learn the underlying pattern and learned from it by using various ml algorithms and also it can be improved its performance by using the various optimizing method so it can produce a better and accurate result."
   ]
  },
  {
   "cell_type": "markdown",
   "id": "50d0492b",
   "metadata": {},
   "source": [
    "    MATLAB: Millions of engineers and scientists worldwide use MATLAB® to analyze and design the systems and products transforming our world. The matrix-based MATLAB language is the world’s most natural way to express computational mathematics. Built-in graphics make it easy to visualize and gain insights from data. The desktop environment invites experimentation, exploration, and discovery. These MATLAB tools and capabilities are all rigorously tested and designed to work together.\n",
    "    \n",
    "    MATLAB helps you take your ideas beyond the desktop. You can run your analyses on larger data sets, and scale up to clusters and clouds. MATLAB code can be integrated with other languages, enabling you to deploy algorithms and applications within web, enterprise, and production systems\n",
    "    \n",
    "    \n",
    "    \n",
    "    Deep learning provides the healthcare industry with the ability to analyze data at exceptional speeds without compromising on accuracy. It’s not machine learning, nor is it AI, it’s an elegant blend of both that uses a layered algorithmic architecture to sift through data at an astonishing rate. The benefits of deep learning in healthcare are plentiful – fast, efficient, accurate – but they don’t stop there. Even more benefits lie within the neural networks formed by multiple layers of AI and ML and their ability to learn. Yes, the secret to deep learning’s success is in the name – learning.\n",
    "    \n",
    "    Deep learning uses mathematical models that are designed to operate a lot like the human brain. The multiple layers of network and technology allow for computing capability that’s unprecedented, and the ability to sift through vast quantities of data that would previously have been lost, forgotten or missed. These deep learning networks can solve complex problems and tease out strands of insight from reams of data that abound within the healthcare profession. It’s a skillset that hasn’t gone unnoticed by the healthcare profession.\n"
   ]
  },
  {
   "cell_type": "markdown",
   "id": "76481e29",
   "metadata": {},
   "source": [
    "### 11. Make a comparison between: -\n",
    "         1. Generalization and abstraction\n",
    "          2. Learning that is guided and unsupervised\n",
    "          3. Regression and classification\n"
   ]
  },
  {
   "cell_type": "markdown",
   "id": "1f4f79c2",
   "metadata": {},
   "source": [
    "    1.\tAbstraction is the process of removing details of objects. We step back from concrete objects to consider several objects with identical properties. So, a concrete object can be looked at as a “superset” of a more abstract object. A generalization, then, is the formulation of general concepts from specific instances by abstracting common properties. A concrete object can be looked at as a “subset” of a more generalized object.\n",
    "    \n",
    "    \n",
    "    2.\tLearning that is guided consists of learning under the supervision of experts or with the assistance of experts in an indirect manner. Subject matter experts accelerate the learning process by teaching the technology in real-time. Assistance from experts helps the learner to learn how to work on difficult tasks. Inherently motivating because it involves the transfer of responsibility, or control, for learning, from the teacher or more capable other to the learner. Unsupervised learning is much similar as a human learns to think by their own experiences, which makes it closer to the real AI.\n",
    "    \n",
    "    \n",
    "    3.\tRegression — Estimate continuous values (Real valued output)\n",
    "    Classification — Identify a unique class (Discrete values, Boolean, or Categories)\n",
    "    Regression: - Regression models a target prediction value based on independent variables. It is mostly used for finding out the relationship between variables and forecasting. Regression can be used to estimate/ predict continuous values (Real valued output). For example: Given a picture of a person, we have to predict the age on the basis of the given picture.\n",
    "    Classification: - Classification means to group the output into a class. If the data set is discrete or categorical then it is a classification problem. For example: Given data about the sizes of houses in the real estate market, making our output about whether the house “sells for more or less than the asking price” i.e. Classifying houses into two discrete categories.\n"
   ]
  },
  {
   "cell_type": "code",
   "execution_count": null,
   "id": "6725cd72",
   "metadata": {},
   "outputs": [],
   "source": []
  }
 ],
 "metadata": {
  "kernelspec": {
   "display_name": "Python 3",
   "language": "python",
   "name": "python3"
  },
  "language_info": {
   "codemirror_mode": {
    "name": "ipython",
    "version": 3
   },
   "file_extension": ".py",
   "mimetype": "text/x-python",
   "name": "python",
   "nbconvert_exporter": "python",
   "pygments_lexer": "ipython3",
   "version": "3.8.8"
  }
 },
 "nbformat": 4,
 "nbformat_minor": 5
}
