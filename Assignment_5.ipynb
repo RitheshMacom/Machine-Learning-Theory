{
 "cells": [
  {
   "cell_type": "markdown",
   "id": "6c437861",
   "metadata": {},
   "source": [
    "### Q1. What are the key tasks that machine learning entails? What does data Pre-Processing imply ?"
   ]
  },
  {
   "cell_type": "markdown",
   "id": "0efe2e19",
   "metadata": {},
   "source": [
    "    The machine learning key tasks involve are…\n",
    "\n",
    "        Data Mining\n",
    "        Data cleaning\n",
    "        Data preprocessing\n",
    "        Making Assumptions about data\n",
    "        Choosing model\n",
    "        Model Tuning\n",
    "        Testing the model for final deployment in the production\n",
    "        Deploy the model into the productions.\n",
    "        \n",
    "    Data Preprocessing is a very vital step in machine learning tasks, data preprocessing involves many tasks like data cleaning, data transforming if needed, feature engineering, dimensionality reduction if needed. Those steps are put a vital effect on the model.        "
   ]
  },
  {
   "cell_type": "markdown",
   "id": "78e7e610",
   "metadata": {},
   "source": [
    "### Q2. Describe quantitative and qualitative data in depth. Make a distinction between the two."
   ]
  },
  {
   "cell_type": "markdown",
   "id": "a16f1da6",
   "metadata": {},
   "source": [
    "    Quantitative data – those are in numerical or numeric format are called quantitative data, these can be both integer or float format, any continuous numerical data can be called quantitative data. We need quantitative data for creating a machine learning model because the machine learning model can’t work with any other type of data.\n",
    "\n",
    "    Qualitative data – those are represented through English words or English letters are called qualitative data. We need special care for this type of data. We need to convert them into numerical form so we can use these qualitative data in our model."
   ]
  },
  {
   "cell_type": "markdown",
   "id": "acbcbaf1",
   "metadata": {},
   "source": [
    "### Q4. What are the various causes of machine learning data issues? What are the ramifications?"
   ]
  },
  {
   "cell_type": "markdown",
   "id": "46dd5612",
   "metadata": {},
   "source": [
    "    The data is coming from the real world can be very messy and unstructured we can not use that data directly for building the model, we need some preprocessing, that data can come in various format and various shape, for creating the model the most used format is a tabular format, we need to convert them in tabular format, the data can be a different type, it can be mixes of quantitative and qualitative, we need to convert every type of data into a numerical format to use in a machine learning model. \n",
    "    \n",
    "    Also in some cases may be all the data section is not filled with data, these are called missing data, this is one major problem in datasets, we also have a different technique to remove them or replace them appropriate value."
   ]
  },
  {
   "cell_type": "markdown",
   "id": "bdff2dc5",
   "metadata": {},
   "source": [
    "### Q5. Demonstrate various approaches to categorical data exploration with appropriate examples."
   ]
  },
  {
   "cell_type": "markdown",
   "id": "dd67eae7",
   "metadata": {},
   "source": [
    "    There are various approaches to explore categorical data we can explore data with visualize approach or\n",
    "\n",
    "    we can sort the data based on their class or labels means converting all categorical values in tabular form by calculating aggregating values like group-by, or value_counts – a function which is available on python language.\n",
    "\n",
    "    And there is a more appropriate way to visualize the data to observe better, we can plot the data using python plotting libraries like matplotlib or seaborn to observe more details from our categorical data."
   ]
  },
  {
   "cell_type": "code",
   "execution_count": 1,
   "id": "9e87846d",
   "metadata": {},
   "outputs": [],
   "source": [
    "#here is some exaple of exploring categorial data\n",
    "cat_list = ['Dog', 'Cat', 'Dog', 'Dog', 'Cat', 'Tiger', 'Rat', 'Cat', 'Tiger']\n",
    "#in above i have created a list of smoe animal names and we can pot this list using bar graph to observe the \n",
    "# occuring of animal names."
   ]
  },
  {
   "cell_type": "code",
   "execution_count": 2,
   "id": "b3b07334",
   "metadata": {},
   "outputs": [],
   "source": [
    "#import matplotlib plotting library\n",
    "import matplotlib.pyplot as plt\n",
    "%matplotlib inline"
   ]
  },
  {
   "cell_type": "code",
   "execution_count": 3,
   "id": "d0a1035f",
   "metadata": {},
   "outputs": [
    {
     "data": {
      "image/png": "[encoded data removed]",
      "text/plain": [
       "<Figure size 432x288 with 1 Axes>"
      ]
     },
     "metadata": {
      "needs_background": "light"
     },
     "output_type": "display_data"
    }
   ],
   "source": [
    "plt.hist(cat_list);\n",
    "plt.title('Animal names');\n",
    "plt.xlabel('Animal');\n",
    "plt.ylabel('Occurance');"
   ]
  },
  {
   "cell_type": "markdown",
   "id": "89d43630",
   "metadata": {},
   "source": [
    "    From abobe bar graph we can observe the categorial value very eaily, that graph willl help us to identify of occurence of every element in our data set. here we can see 'Dog' appear 3 times from y axis label and 'Rat' is appear only 1 times in our list.\n",
    "\n",
    "    And other function that help us to find categorial entry from the dataframe for that we need to create pandas data frame object"
   ]
  },
  {
   "cell_type": "code",
   "execution_count": 4,
   "id": "e1c5e571",
   "metadata": {},
   "outputs": [
    {
     "data": {
      "text/html": [
       "<div>\n",
       "<style scoped>\n",
       "    .dataframe tbody tr th:only-of-type {\n",
       "        vertical-align: middle;\n",
       "    }\n",
       "\n",
       "    .dataframe tbody tr th {\n",
       "        vertical-align: top;\n",
       "    }\n",
       "\n",
       "    .dataframe thead th {\n",
       "        text-align: right;\n",
       "    }\n",
       "</style>\n",
       "<table border=\"1\" class=\"dataframe\">\n",
       "  <thead>\n",
       "    <tr style=\"text-align: right;\">\n",
       "      <th></th>\n",
       "      <th>Animals</th>\n",
       "      <th>City</th>\n",
       "    </tr>\n",
       "  </thead>\n",
       "  <tbody>\n",
       "    <tr>\n",
       "      <th>0</th>\n",
       "      <td>Dog</td>\n",
       "      <td>Kolkata</td>\n",
       "    </tr>\n",
       "    <tr>\n",
       "      <th>1</th>\n",
       "      <td>Cat</td>\n",
       "      <td>Delhi</td>\n",
       "    </tr>\n",
       "    <tr>\n",
       "      <th>2</th>\n",
       "      <td>Dog</td>\n",
       "      <td>Nepal</td>\n",
       "    </tr>\n",
       "    <tr>\n",
       "      <th>3</th>\n",
       "      <td>Dog</td>\n",
       "      <td>Rajhasthan</td>\n",
       "    </tr>\n",
       "    <tr>\n",
       "      <th>4</th>\n",
       "      <td>Tiger</td>\n",
       "      <td>Kolkata</td>\n",
       "    </tr>\n",
       "    <tr>\n",
       "      <th>5</th>\n",
       "      <td>Rat</td>\n",
       "      <td>Delhi</td>\n",
       "    </tr>\n",
       "    <tr>\n",
       "      <th>6</th>\n",
       "      <td>Cat</td>\n",
       "      <td>Nepal</td>\n",
       "    </tr>\n",
       "    <tr>\n",
       "      <th>7</th>\n",
       "      <td>Tiger</td>\n",
       "      <td>Rajhasthan</td>\n",
       "    </tr>\n",
       "  </tbody>\n",
       "</table>\n",
       "</div>"
      ],
      "text/plain": [
       "  Animals        City\n",
       "0     Dog     Kolkata\n",
       "1     Cat       Delhi\n",
       "2     Dog       Nepal\n",
       "3     Dog  Rajhasthan\n",
       "4   Tiger     Kolkata\n",
       "5     Rat       Delhi\n",
       "6     Cat       Nepal\n",
       "7   Tiger  Rajhasthan"
      ]
     },
     "execution_count": 4,
     "metadata": {},
     "output_type": "execute_result"
    }
   ],
   "source": [
    "#creatig panda simple dataframe from dictionary\n",
    "df_dict = {\n",
    "    'Animals': ['Dog', 'Cat', 'Dog', 'Dog', 'Tiger', 'Rat', 'Cat', 'Tiger'],\n",
    "    'City': ['Kolkata', 'Delhi', 'Nepal', 'Rajhasthan', 'Kolkata', 'Delhi', 'Nepal', 'Rajhasthan']\n",
    "}\n",
    "#importing pandas dataframe\n",
    "from pandas import DataFrame\n",
    "df = DataFrame(df_dict)\n",
    "df"
   ]
  },
  {
   "cell_type": "markdown",
   "id": "ab32fcc6",
   "metadata": {},
   "source": [
    "    Here we create a simple datafram with two columns consisting categorial value and we can use some function to explore categorial value occurance"
   ]
  },
  {
   "cell_type": "code",
   "execution_count": 5,
   "id": "988312ec",
   "metadata": {},
   "outputs": [
    {
     "data": {
      "text/plain": [
       "Dog      3\n",
       "Cat      2\n",
       "Tiger    2\n",
       "Rat      1\n",
       "Name: Animals, dtype: int64"
      ]
     },
     "execution_count": 5,
     "metadata": {},
     "output_type": "execute_result"
    }
   ],
   "source": [
    "# checking of appearance of animal and city name form our dataframe\n",
    "df['Animals'].value_counts()"
   ]
  },
  {
   "cell_type": "markdown",
   "id": "7b0407f5",
   "metadata": {},
   "source": [
    "    Here we can observe the which animal appear in how many of times in our datasets."
   ]
  },
  {
   "cell_type": "code",
   "execution_count": 6,
   "id": "870439b2",
   "metadata": {},
   "outputs": [
    {
     "data": {
      "text/plain": [
       "Rajhasthan    2\n",
       "Delhi         2\n",
       "Kolkata       2\n",
       "Nepal         2\n",
       "Name: City, dtype: int64"
      ]
     },
     "execution_count": 6,
     "metadata": {},
     "output_type": "execute_result"
    }
   ],
   "source": [
    "df['City'].value_counts()\n",
    "# checking the city name form our dataframe"
   ]
  },
  {
   "cell_type": "markdown",
   "id": "968123be",
   "metadata": {},
   "source": [
    "### 6. How would the learning activity be affected if certain variables have missing values? Having said that, what can be done about it?"
   ]
  },
  {
   "cell_type": "markdown",
   "id": "ebab1e9a",
   "metadata": {},
   "source": [
    "    The machine learning algorithms required a complete dataset with purity, which means we can’t pass it incomplete data with some NaN value in some columns if we do so our model will not be useful when we will using it on production.\n",
    "\n",
    "    The NaN value basically will bias our machine learning algorithm which have missing the value for that feature and replace the python NaN object which indicates the absence of data. This will impact on the model, the model will not perform well as expected just for the missing value.\n",
    "\n",
    "    As missing value is a common problem we have serval option to deal with it,\n",
    "\n",
    "    If the values are Numerical in data type, then we can convert the missing value by the mean of the full dataset or we can replace the missing value mode of the data. Or just can replace the missing value with zero that will not impact our model.\n",
    "    \n",
    "    If the values are Categorical in data types we can replace the missing value with the most frequent value occurring in the dataset.\n",
    "    \n",
    "    We also have one more approach the is also used in practices which is drop the rows that have missing value. But it can reduce our data size, we have to observe on that side, the rule of thumb says that if we are dropping 5% from our total data then we are fine.\n",
    "    \n",
    "    Which method we use in which case completely depends on the problem in hand and the dataset we have. The data scientist or machine learning engineer will decide which method to use in which case based on his experience, there is no hard code rule on that.\n",
    " "
   ]
  },
  {
   "cell_type": "markdown",
   "id": "10552aed",
   "metadata": {},
   "source": [
    "### 7. Describe the various methods for dealing with missing data values in depth."
   ]
  },
  {
   "cell_type": "markdown",
   "id": "4308608c",
   "metadata": {},
   "source": [
    "    The missing value is one of the common problems that we encounter at the first step of the data preprocessing. The data can come from different sources, most of the data are not created by hand, almost every cases these data can be filled by a user of any product for any company, or survey report, or some daily trends, as we don’t have any control on creating the data set. We collect them from a different database or we can download from the various website as per our problem required. So the missing value comes with it, the missing values are nothing but the absence of data. Like if the data is about some survey report then some users may not give some answers to the survey and can skip a couple of questions in that case those unfilled answers will become a missing value in our dataset. We have some approach to deal with it...\n",
    "\n",
    "    Here I will create a simple dataset with both numerical and categorical value with some missing value"
   ]
  },
  {
   "cell_type": "code",
   "execution_count": 7,
   "id": "bb977926",
   "metadata": {},
   "outputs": [
    {
     "data": {
      "text/html": [
       "<div>\n",
       "<style scoped>\n",
       "    .dataframe tbody tr th:only-of-type {\n",
       "        vertical-align: middle;\n",
       "    }\n",
       "\n",
       "    .dataframe tbody tr th {\n",
       "        vertical-align: top;\n",
       "    }\n",
       "\n",
       "    .dataframe thead th {\n",
       "        text-align: right;\n",
       "    }\n",
       "</style>\n",
       "<table border=\"1\" class=\"dataframe\">\n",
       "  <thead>\n",
       "    <tr style=\"text-align: right;\">\n",
       "      <th></th>\n",
       "      <th>Name</th>\n",
       "      <th>Age</th>\n",
       "      <th>City</th>\n",
       "    </tr>\n",
       "  </thead>\n",
       "  <tbody>\n",
       "    <tr>\n",
       "      <th>0</th>\n",
       "      <td>Ram</td>\n",
       "      <td>18.0</td>\n",
       "      <td>Kolaka</td>\n",
       "    </tr>\n",
       "    <tr>\n",
       "      <th>1</th>\n",
       "      <td>Sam</td>\n",
       "      <td>20.0</td>\n",
       "      <td>NaN</td>\n",
       "    </tr>\n",
       "    <tr>\n",
       "      <th>2</th>\n",
       "      <td>Jodu</td>\n",
       "      <td>44.0</td>\n",
       "      <td>Bhutan</td>\n",
       "    </tr>\n",
       "    <tr>\n",
       "      <th>3</th>\n",
       "      <td>Modu</td>\n",
       "      <td>35.0</td>\n",
       "      <td>Rajhasthan</td>\n",
       "    </tr>\n",
       "    <tr>\n",
       "      <th>4</th>\n",
       "      <td>Tim</td>\n",
       "      <td>NaN</td>\n",
       "      <td>NaN</td>\n",
       "    </tr>\n",
       "    <tr>\n",
       "      <th>5</th>\n",
       "      <td>Kine</td>\n",
       "      <td>44.0</td>\n",
       "      <td>Kolkata</td>\n",
       "    </tr>\n",
       "    <tr>\n",
       "      <th>6</th>\n",
       "      <td>Lofi</td>\n",
       "      <td>22.0</td>\n",
       "      <td>NaN</td>\n",
       "    </tr>\n",
       "    <tr>\n",
       "      <th>7</th>\n",
       "      <td>Kofi</td>\n",
       "      <td>NaN</td>\n",
       "      <td>Kolkata</td>\n",
       "    </tr>\n",
       "  </tbody>\n",
       "</table>\n",
       "</div>"
      ],
      "text/plain": [
       "   Name   Age        City\n",
       "0   Ram  18.0      Kolaka\n",
       "1   Sam  20.0         NaN\n",
       "2  Jodu  44.0      Bhutan\n",
       "3  Modu  35.0  Rajhasthan\n",
       "4   Tim   NaN         NaN\n",
       "5  Kine  44.0     Kolkata\n",
       "6  Lofi  22.0         NaN\n",
       "7  Kofi   NaN     Kolkata"
      ]
     },
     "execution_count": 7,
     "metadata": {},
     "output_type": "execute_result"
    }
   ],
   "source": [
    "#first i will create a dataset to work with\n",
    "# imporing nan form numpy library\n",
    "from numpy import nan\n",
    "my_dict = {\n",
    "    'Name':['Ram', 'Sam', 'Jodu', 'Modu', 'Tim', 'Kine', 'Lofi', 'Kofi'],\n",
    "    'Age':[18, 20, 44, 35, nan, 44, 22, nan],\n",
    "    'City':['Kolaka', nan, 'Bhutan', 'Rajhasthan', nan, 'Kolkata', nan, 'Kolkata'],\n",
    "    \n",
    "            }\n",
    "\n",
    "df = DataFrame(my_dict) # creating dataframe\n",
    "df #showing the dataframe"
   ]
  },
  {
   "cell_type": "markdown",
   "id": "de97a838",
   "metadata": {},
   "source": [
    "    We can find the nan value by using isnull function and sum fuction followed by it"
   ]
  },
  {
   "cell_type": "code",
   "execution_count": 8,
   "id": "5ffec394",
   "metadata": {},
   "outputs": [
    {
     "data": {
      "text/plain": [
       "Name    0\n",
       "Age     2\n",
       "City    3\n",
       "dtype: int64"
      ]
     },
     "execution_count": 8,
     "metadata": {},
     "output_type": "execute_result"
    }
   ],
   "source": [
    "# checking the missing values\n",
    "df.isnull().sum() "
   ]
  },
  {
   "cell_type": "markdown",
   "id": "082cbff2",
   "metadata": {},
   "source": [
    "    from this we can see that the 'Age' column have the 2 nan value and city have 3 nan value froom our dataframe.\n",
    "\n",
    "    The 'Age' column have numerical value in it and 'City' have categorical value, so we have to use different aproch for both of them\n",
    "\n",
    "    We can use fillna function for filling the nan value in our datafarme, and we can pass the value we want to use the fill nan value"
   ]
  },
  {
   "cell_type": "code",
   "execution_count": 9,
   "id": "deaec694",
   "metadata": {},
   "outputs": [
    {
     "data": {
      "text/plain": [
       "30.5"
      ]
     },
     "execution_count": 9,
     "metadata": {},
     "output_type": "execute_result"
    }
   ],
   "source": [
    "#calculating mean age from our dataframe\n",
    "df['Age'].mean()"
   ]
  },
  {
   "cell_type": "markdown",
   "id": "2edd1369",
   "metadata": {},
   "source": [
    "    We can see the mean age from all our user is 30 we can assume that the missing age value can be 30 as it is our mean user age"
   ]
  },
  {
   "cell_type": "code",
   "execution_count": 10,
   "id": "eae80f14",
   "metadata": {},
   "outputs": [
    {
     "data": {
      "text/html": [
       "<div>\n",
       "<style scoped>\n",
       "    .dataframe tbody tr th:only-of-type {\n",
       "        vertical-align: middle;\n",
       "    }\n",
       "\n",
       "    .dataframe tbody tr th {\n",
       "        vertical-align: top;\n",
       "    }\n",
       "\n",
       "    .dataframe thead th {\n",
       "        text-align: right;\n",
       "    }\n",
       "</style>\n",
       "<table border=\"1\" class=\"dataframe\">\n",
       "  <thead>\n",
       "    <tr style=\"text-align: right;\">\n",
       "      <th></th>\n",
       "      <th>Name</th>\n",
       "      <th>Age</th>\n",
       "      <th>City</th>\n",
       "    </tr>\n",
       "  </thead>\n",
       "  <tbody>\n",
       "    <tr>\n",
       "      <th>0</th>\n",
       "      <td>Ram</td>\n",
       "      <td>18.0</td>\n",
       "      <td>Kolaka</td>\n",
       "    </tr>\n",
       "    <tr>\n",
       "      <th>1</th>\n",
       "      <td>Sam</td>\n",
       "      <td>20.0</td>\n",
       "      <td>NaN</td>\n",
       "    </tr>\n",
       "    <tr>\n",
       "      <th>2</th>\n",
       "      <td>Jodu</td>\n",
       "      <td>44.0</td>\n",
       "      <td>Bhutan</td>\n",
       "    </tr>\n",
       "    <tr>\n",
       "      <th>3</th>\n",
       "      <td>Modu</td>\n",
       "      <td>35.0</td>\n",
       "      <td>Rajhasthan</td>\n",
       "    </tr>\n",
       "    <tr>\n",
       "      <th>4</th>\n",
       "      <td>Tim</td>\n",
       "      <td>30.5</td>\n",
       "      <td>NaN</td>\n",
       "    </tr>\n",
       "    <tr>\n",
       "      <th>5</th>\n",
       "      <td>Kine</td>\n",
       "      <td>44.0</td>\n",
       "      <td>Kolkata</td>\n",
       "    </tr>\n",
       "    <tr>\n",
       "      <th>6</th>\n",
       "      <td>Lofi</td>\n",
       "      <td>22.0</td>\n",
       "      <td>NaN</td>\n",
       "    </tr>\n",
       "    <tr>\n",
       "      <th>7</th>\n",
       "      <td>Kofi</td>\n",
       "      <td>30.5</td>\n",
       "      <td>Kolkata</td>\n",
       "    </tr>\n",
       "  </tbody>\n",
       "</table>\n",
       "</div>"
      ],
      "text/plain": [
       "   Name   Age        City\n",
       "0   Ram  18.0      Kolaka\n",
       "1   Sam  20.0         NaN\n",
       "2  Jodu  44.0      Bhutan\n",
       "3  Modu  35.0  Rajhasthan\n",
       "4   Tim  30.5         NaN\n",
       "5  Kine  44.0     Kolkata\n",
       "6  Lofi  22.0         NaN\n",
       "7  Kofi  30.5     Kolkata"
      ]
     },
     "execution_count": 10,
     "metadata": {},
     "output_type": "execute_result"
    }
   ],
   "source": [
    "#filling nan value with mean age 30\n",
    "df['Age'].fillna(value=30.5, inplace=True)\n",
    "df"
   ]
  },
  {
   "cell_type": "markdown",
   "id": "a9b24c0d",
   "metadata": {},
   "source": [
    "    Now we can see that from previous dataset where 'Tim' and 'Kofi' did not put there age we replace those nan with 30 on index 4 and 7. but the city column still have their nan value.\n",
    "\n",
    "    Although the Machine learning libray scikit learn have one function to handle missing value which is Simpleimputer from this we do not have to calculate mean value separately. the function have parameter called strategy which take mean, median and most_frequent to handle missing value"
   ]
  },
  {
   "cell_type": "code",
   "execution_count": 11,
   "id": "82c33c32",
   "metadata": {},
   "outputs": [
    {
     "data": {
      "text/plain": [
       "Kolkata       2\n",
       "Rajhasthan    1\n",
       "Kolaka        1\n",
       "Bhutan        1\n",
       "Name: City, dtype: int64"
      ]
     },
     "execution_count": 11,
     "metadata": {},
     "output_type": "execute_result"
    }
   ],
   "source": [
    "#checking for most frequent city name from the dataset\n",
    "df['City'].value_counts()"
   ]
  },
  {
   "cell_type": "markdown",
   "id": "d23cc3e0",
   "metadata": {},
   "source": [
    "    We can see the kolkata is most frequent city so we can assume that most of user from kolkata"
   ]
  },
  {
   "cell_type": "code",
   "execution_count": 12,
   "id": "954753eb",
   "metadata": {},
   "outputs": [
    {
     "data": {
      "text/html": [
       "<div>\n",
       "<style scoped>\n",
       "    .dataframe tbody tr th:only-of-type {\n",
       "        vertical-align: middle;\n",
       "    }\n",
       "\n",
       "    .dataframe tbody tr th {\n",
       "        vertical-align: top;\n",
       "    }\n",
       "\n",
       "    .dataframe thead th {\n",
       "        text-align: right;\n",
       "    }\n",
       "</style>\n",
       "<table border=\"1\" class=\"dataframe\">\n",
       "  <thead>\n",
       "    <tr style=\"text-align: right;\">\n",
       "      <th></th>\n",
       "      <th>Name</th>\n",
       "      <th>Age</th>\n",
       "      <th>City</th>\n",
       "    </tr>\n",
       "  </thead>\n",
       "  <tbody>\n",
       "    <tr>\n",
       "      <th>0</th>\n",
       "      <td>Ram</td>\n",
       "      <td>18.0</td>\n",
       "      <td>Kolaka</td>\n",
       "    </tr>\n",
       "    <tr>\n",
       "      <th>1</th>\n",
       "      <td>Sam</td>\n",
       "      <td>20.0</td>\n",
       "      <td>Kolkata</td>\n",
       "    </tr>\n",
       "    <tr>\n",
       "      <th>2</th>\n",
       "      <td>Jodu</td>\n",
       "      <td>44.0</td>\n",
       "      <td>Bhutan</td>\n",
       "    </tr>\n",
       "    <tr>\n",
       "      <th>3</th>\n",
       "      <td>Modu</td>\n",
       "      <td>35.0</td>\n",
       "      <td>Rajhasthan</td>\n",
       "    </tr>\n",
       "    <tr>\n",
       "      <th>4</th>\n",
       "      <td>Tim</td>\n",
       "      <td>30.5</td>\n",
       "      <td>Kolkata</td>\n",
       "    </tr>\n",
       "    <tr>\n",
       "      <th>5</th>\n",
       "      <td>Kine</td>\n",
       "      <td>44.0</td>\n",
       "      <td>Kolkata</td>\n",
       "    </tr>\n",
       "    <tr>\n",
       "      <th>6</th>\n",
       "      <td>Lofi</td>\n",
       "      <td>22.0</td>\n",
       "      <td>Kolkata</td>\n",
       "    </tr>\n",
       "    <tr>\n",
       "      <th>7</th>\n",
       "      <td>Kofi</td>\n",
       "      <td>30.5</td>\n",
       "      <td>Kolkata</td>\n",
       "    </tr>\n",
       "  </tbody>\n",
       "</table>\n",
       "</div>"
      ],
      "text/plain": [
       "   Name   Age        City\n",
       "0   Ram  18.0      Kolaka\n",
       "1   Sam  20.0     Kolkata\n",
       "2  Jodu  44.0      Bhutan\n",
       "3  Modu  35.0  Rajhasthan\n",
       "4   Tim  30.5     Kolkata\n",
       "5  Kine  44.0     Kolkata\n",
       "6  Lofi  22.0     Kolkata\n",
       "7  Kofi  30.5     Kolkata"
      ]
     },
     "execution_count": 12,
     "metadata": {},
     "output_type": "execute_result"
    }
   ],
   "source": [
    "# filling nan value in city column with kolkata\n",
    "df['City'].fillna(value='Kolkata', inplace=True)\n",
    "df"
   ]
  },
  {
   "cell_type": "markdown",
   "id": "1218f4e2",
   "metadata": {},
   "source": [
    "    Now We have a complete clean data to work with.\n",
    "\n",
    "    It is also have to remember that Which method we use in which case completely depends on the problem in hand and the dataset we have. The data scientist or machine learning engineer will decide which method to use in which case based on his experience, there is no hard code rule on that."
   ]
  },
  {
   "cell_type": "markdown",
   "id": "2b56a0be",
   "metadata": {},
   "source": [
    "### 8. What are the various data pre-processing techniques? Explain dimensionality reduction and function selection in a few words."
   ]
  },
  {
   "cell_type": "markdown",
   "id": "625fea12",
   "metadata": {},
   "source": [
    "     The data preprocessing technique is the most vital and time-consuming approach in the data science domain. This step required lots of labor to prepare a good and clean dataset that we can feed into machine learning algorithms. The data preprocessing consists of serval steps …\n",
    "\n",
    "    Data Cleaning means we need to clean our data as per requirement, data come from source can not be used directly for model creation, these data will consist of unnecessary element and can be unstructured we need to perform various data cleaning for making them structured.\n",
    "    \n",
    "    Data transforming or data scaling also need to be done before train with those data in our model, if one feature data range does not match or the range differs too much then we need to perform data scaling to scale all numerical value a single and small range.\n",
    "    \n",
    "    Feature engineering needs to be done if that is needed if we have many features and we feel that all the features are not necessary for the model creation, we can check that from every feature weight. Removing unnecessary features or adding a new feature is called feature engineering.\n",
    "    \n",
    "    \n",
    "    Many Machine learning problems consist of lots of features even thousands of features, that can make the model very slow and very complex to handle. This problem is also referred to as the Curse of Dimensionality. Dimensionality reduction is also can be needed if we have lots of features or our data set consists of many columns then we have to reduce columns number without losing any information, in that time dimensionality reduction can be handy. PCA is the most common use approach for dimensionality reduction. There are also other function that can help to reduce the dimensions of our data set, like, Non-negative matrix factorization (NMF), Graph-based kernel PCA, Linear discriminant analysis (LDA).\n",
    "     "
   ]
  },
  {
   "cell_type": "markdown",
   "id": "8fbc6ae8",
   "metadata": {},
   "source": [
    "### 9.i. What is the IQR? What criteria are used to assess it?\n",
    "### ii. Describe the various components of a box plot in detail? When will the lower whisker surpass the upper whisker in length? How can box plots be used to identify outliers?"
   ]
  },
  {
   "cell_type": "markdown",
   "id": "7ffd566d",
   "metadata": {},
   "source": [
    "    1. IQR or Inter-Quartile Range is a measure of dispersion. It is formulated as (third quartile-1st quartile). It is dependent on only 50% of the data. First quartile and third quartile are required to assess Inter Quartile Range.\n",
    "\n",
    "    2. boxplot gives us the 5 point summary which includes first quartile(median of the first 50% of the data), third quartile(median for second 50% of the data), median or 2nd quartile(exact mid point of the entire data), maximum value and minimum value. It also has two whiskers which provide us with a visual position of minimum and maximum value, below and above which lies the threshold beyond which any data point will be shown as an outlier. Outliers are declared by using formula Q1-(1.5 IQR) and Q3+(1.5 IQR). Lower whisker surpasses the upper whisker if the data is right skewed."
   ]
  },
  {
   "cell_type": "markdown",
   "id": "f3e56897",
   "metadata": {},
   "source": [
    "### 10. Make brief notes on any two of the following:\n",
    "### i. Data collected at regular intervals\n",
    "### iii. Use a cross-tab"
   ]
  },
  {
   "cell_type": "markdown",
   "id": "69b2e721",
   "metadata": {},
   "source": [
    "    1.Data collection can be in many different forms. One of the probabilistic sampling techniques used in Statistics is Stratified sampling in which data is collected at regular intervals but with a random start. It is used for its simplicity.\n",
    "\n",
    "    2.ross tabs or cross tabulation are only used to find relations between two categorical variables where one categorical variable value would be giving row data and the other variable would give column data. Several tests like the chi square test can help find relations based on the cross tab."
   ]
  },
  {
   "cell_type": "markdown",
   "id": "37d22c67",
   "metadata": {},
   "source": [
    "### 11. Make a comparison between:\n",
    "### ii. Histogram and box plot\n",
    "### iii. The average and median\n"
   ]
  },
  {
   "cell_type": "markdown",
   "id": "b8f5a2bf",
   "metadata": {},
   "source": [
    "    1.Histograms are data visualizations used for continous quantitative data. Box Plots are data visualizations used for describing any quantitative data. Histograms are used for checking the distribution type. Box Plots are used for describing data in 5 point summary and detecting outliers in data. Granularity can be changed using bins in Histograms. Box Plots do no feature any control over granularity.\n",
    "\n",
    "    2.Average is a measure of numerical centrality of a distribution. Median is a measure of positional centrality of a distribution. Average can also be referred to as the value that is closest to most number of values in a data. Median can also be referred to as the value which is exactly in the middle of a distribution. Averages are affected by presence of outliers. Medians are not affected by outliers."
   ]
  },
  {
   "cell_type": "code",
   "execution_count": null,
   "id": "84655c30",
   "metadata": {},
   "outputs": [],
   "source": []
  }
 ],
 "metadata": {
  "kernelspec": {
   "display_name": "Python 3",
   "language": "python",
   "name": "python3"
  },
  "language_info": {
   "codemirror_mode": {
    "name": "ipython",
    "version": 3
   },
   "file_extension": ".py",
   "mimetype": "text/x-python",
   "name": "python",
   "nbconvert_exporter": "python",
   "pygments_lexer": "ipython3",
   "version": "3.8.8"
  }
 },
 "nbformat": 4,
 "nbformat_minor": 5
}
